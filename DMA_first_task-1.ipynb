{
 "cells": [
  {
   "cell_type": "markdown",
   "metadata": {},
   "source": [
    "# Python"
   ]
  },
  {
   "cell_type": "markdown",
   "metadata": {},
   "source": [
    "### 1)  Fizzbuzz"
   ]
  },
  {
   "cell_type": "code",
   "execution_count": 1,
   "metadata": {
    "collapsed": false,
    "scrolled": true
   },
   "outputs": [
    {
     "name": "stdout",
     "output_type": "stream",
     "text": [
      "1\n",
      "2\n",
      "Fuzz\n",
      "4\n",
      "Buzz\n",
      "Fuzz\n",
      "7\n",
      "8\n",
      "Fuzz\n",
      "Buzz\n",
      "11\n",
      "Fuzz\n",
      "13\n",
      "14\n",
      "FuzzBuzz\n",
      "16\n",
      "17\n",
      "Fuzz\n",
      "19\n",
      "Buzz\n",
      "Fuzz\n",
      "22\n",
      "23\n",
      "Fuzz\n",
      "Buzz\n",
      "26\n",
      "Fuzz\n",
      "28\n",
      "29\n",
      "FuzzBuzz\n",
      "31\n",
      "32\n",
      "Fuzz\n",
      "34\n",
      "Buzz\n",
      "Fuzz\n",
      "37\n",
      "38\n",
      "Fuzz\n",
      "Buzz\n",
      "41\n",
      "Fuzz\n",
      "43\n",
      "44\n",
      "FuzzBuzz\n",
      "46\n",
      "47\n",
      "Fuzz\n",
      "49\n",
      "Buzz\n",
      "Fuzz\n",
      "52\n",
      "53\n",
      "Fuzz\n",
      "Buzz\n",
      "56\n",
      "Fuzz\n",
      "58\n",
      "59\n",
      "FuzzBuzz\n",
      "61\n",
      "62\n",
      "Fuzz\n",
      "64\n",
      "Buzz\n",
      "Fuzz\n",
      "67\n",
      "68\n",
      "Fuzz\n",
      "Buzz\n",
      "71\n",
      "Fuzz\n",
      "73\n",
      "74\n",
      "FuzzBuzz\n",
      "76\n",
      "77\n",
      "Fuzz\n",
      "79\n",
      "Buzz\n",
      "Fuzz\n",
      "82\n",
      "83\n",
      "Fuzz\n",
      "Buzz\n",
      "86\n",
      "Fuzz\n",
      "88\n",
      "89\n",
      "FuzzBuzz\n",
      "91\n",
      "92\n",
      "Fuzz\n",
      "94\n",
      "Buzz\n",
      "Fuzz\n",
      "97\n",
      "98\n",
      "Fuzz\n",
      "Buzz\n"
     ]
    }
   ],
   "source": [
    "for i in range(1, 101):\n",
    "    print (not i%3)*'Fuzz'+(not i%5)*'Buzz' or i"
   ]
  },
  {
   "cell_type": "markdown",
   "metadata": {},
   "source": [
    "### 2) Числа Фибоначчи"
   ]
  },
  {
   "cell_type": "code",
   "execution_count": 2,
   "metadata": {
    "collapsed": false
   },
   "outputs": [],
   "source": [
    "def fib(n):\n",
    "    a = 0\n",
    "    b = 1\n",
    "    \n",
    "    for __ in range(n-1):\n",
    "        a,b = b, a+b\n",
    "    if n==0:\n",
    "        print 'Only positive values'\n",
    "    else:\n",
    "        if n>1:\n",
    "            print a\n",
    "        else:\n",
    "            print 0\n",
    "        "
   ]
  },
  {
   "cell_type": "code",
   "execution_count": 3,
   "metadata": {
    "collapsed": false
   },
   "outputs": [
    {
     "name": "stdout",
     "output_type": "stream",
     "text": [
      "218922995834555169026\n"
     ]
    }
   ],
   "source": [
    "fib(100)"
   ]
  },
  {
   "cell_type": "markdown",
   "metadata": {},
   "source": [
    "### 3) Сортировка массива*"
   ]
  },
  {
   "cell_type": "code",
   "execution_count": 4,
   "metadata": {
    "collapsed": false
   },
   "outputs": [],
   "source": [
    "def quick_sort(arr):\n",
    "    less =[]\n",
    "    equal =[]\n",
    "    greater = []\n",
    "    \n",
    "    if len(arr)>1:\n",
    "        pivot = arr[0]\n",
    "        for x in arr:\n",
    "            if x < pivot:\n",
    "                less.append(x)\n",
    "            else:\n",
    "                if x > pivot:\n",
    "                    greater.append(x)\n",
    "                else:\n",
    "                    equal.append(x)\n",
    "        return quick_sort(less)+equal+quick_sort(greater)\n",
    "    else:\n",
    "        return arr"
   ]
  },
  {
   "cell_type": "code",
   "execution_count": 5,
   "metadata": {
    "collapsed": false
   },
   "outputs": [
    {
     "data": {
      "text/plain": [
       "[0, 1, 1, 2, 3, 4, 5, 5, 6, 8, 9, 11]"
      ]
     },
     "execution_count": 5,
     "metadata": {},
     "output_type": "execute_result"
    }
   ],
   "source": [
    "array = [5,1,5,8,9,6,4,3,1,2,0,11]\n",
    "quick_sort(array)"
   ]
  },
  {
   "cell_type": "markdown",
   "metadata": {},
   "source": [
    "# NumPy"
   ]
  },
  {
   "cell_type": "code",
   "execution_count": 6,
   "metadata": {
    "collapsed": false
   },
   "outputs": [],
   "source": [
    "import numpy as np"
   ]
  },
  {
   "cell_type": "markdown",
   "metadata": {},
   "source": [
    "### 1) Аналоги $np.linspace$"
   ]
  },
  {
   "cell_type": "code",
   "execution_count": 7,
   "metadata": {
    "collapsed": false
   },
   "outputs": [],
   "source": [
    "def loop_linspace(start, end, number):\n",
    "    arr=[]\n",
    "    #интервалов на один меньше чем точек\n",
    "    step=float(end-start)/(number-1)\n",
    "    for __ in range(number):\n",
    "        arr.append(start)\n",
    "        start+=step\n",
    "    return np.array(arr)"
   ]
  },
  {
   "cell_type": "code",
   "execution_count": 8,
   "metadata": {
    "collapsed": true
   },
   "outputs": [],
   "source": [
    "def lc_linspace(start, end, number):\n",
    "    #интервалов на один меньше чем точек\n",
    "    step=float(end-start)/(number-1)\n",
    "    return np.array([start+step*n for n in range(number)])"
   ]
  },
  {
   "cell_type": "code",
   "execution_count": 9,
   "metadata": {
    "collapsed": true
   },
   "outputs": [],
   "source": [
    "n=1000000"
   ]
  },
  {
   "cell_type": "code",
   "execution_count": 10,
   "metadata": {
    "collapsed": false,
    "scrolled": true
   },
   "outputs": [
    {
     "name": "stdout",
     "output_type": "stream",
     "text": [
      "Wall time: 278 ms\n"
     ]
    },
    {
     "data": {
      "text/plain": [
       "array([ 1.      ,  1.000009,  1.000018, ...,  9.999982,  9.999991, 10.      ])"
      ]
     },
     "execution_count": 10,
     "metadata": {},
     "output_type": "execute_result"
    }
   ],
   "source": [
    "%time loop_linspace(1, 10, n)"
   ]
  },
  {
   "cell_type": "code",
   "execution_count": 11,
   "metadata": {
    "collapsed": false
   },
   "outputs": [
    {
     "name": "stdout",
     "output_type": "stream",
     "text": [
      "Wall time: 7 ms\n"
     ]
    },
    {
     "data": {
      "text/plain": [
       "array([  1.      ,   1.000009,   1.000018, ...,   9.999982,   9.999991,\n",
       "        10.      ])"
      ]
     },
     "execution_count": 11,
     "metadata": {},
     "output_type": "execute_result"
    }
   ],
   "source": [
    "%time np.linspace(1, 10, n)"
   ]
  },
  {
   "cell_type": "code",
   "execution_count": 12,
   "metadata": {
    "collapsed": false
   },
   "outputs": [
    {
     "name": "stdout",
     "output_type": "stream",
     "text": [
      "Wall time: 205 ms\n"
     ]
    },
    {
     "data": {
      "text/plain": [
       "array([  1.      ,   1.000009,   1.000018, ...,   9.999982,   9.999991,\n",
       "        10.      ])"
      ]
     },
     "execution_count": 12,
     "metadata": {},
     "output_type": "execute_result"
    }
   ],
   "source": [
    "%time lc_linspace(1, 10, n)"
   ]
  },
  {
   "cell_type": "code",
   "execution_count": 13,
   "metadata": {
    "collapsed": true
   },
   "outputs": [],
   "source": [
    "#Итог: numpy.linspace работает на порядок быстрее (без конвертации в numpy.ndarray время работы функций сокращается процентов на 20)"
   ]
  },
  {
   "cell_type": "markdown",
   "metadata": {},
   "source": [
    "### 2) сравнение производительности основных операций $numpy.ndarray$ и $list$"
   ]
  },
  {
   "cell_type": "code",
   "execution_count": 14,
   "metadata": {
    "collapsed": false
   },
   "outputs": [
    {
     "name": "stdout",
     "output_type": "stream",
     "text": [
      "Wall time: 152 ms\n",
      "Wall time: 785 ms\n"
     ]
    }
   ],
   "source": [
    "#Создание\n",
    "%time usual_arr = range(10000000)\n",
    "%time numpy_arr = np.array(range(10000000))"
   ]
  },
  {
   "cell_type": "code",
   "execution_count": 15,
   "metadata": {
    "collapsed": false
   },
   "outputs": [
    {
     "name": "stdout",
     "output_type": "stream",
     "text": [
      "Поэлементное сложение\n",
      "Wall time: 1.23 s\n",
      "Wall time: 0 ns\n",
      "Поэлементное деление\n",
      "Wall time: 1.59 s\n",
      "Wall time: 31 ms\n",
      "Поэлементное возведение в степень\n",
      "Wall time: 2.82 s\n",
      "Wall time: 745 ms\n"
     ]
    }
   ],
   "source": [
    "print u'Поэлементное сложение'\n",
    "%time usual_arr = [a+1 for a in usual_arr]\n",
    "%time numpy_arr+=1\n",
    "print u'Поэлементное деление'\n",
    "%time usual_arr = [a/2.0 for a in usual_arr]\n",
    "%time numpy_arr = numpy_arr/2.0\n",
    "print u'Поэлементное возведение в степень'\n",
    "%time usual_arr = [a**3 for a in usual_arr]\n",
    "%time numpy_arr = numpy_arr**3"
   ]
  },
  {
   "cell_type": "code",
   "execution_count": 16,
   "metadata": {
    "collapsed": false
   },
   "outputs": [
    {
     "name": "stdout",
     "output_type": "stream",
     "text": [
      "append\n",
      "Wall time: 0 ns\n",
      "Wall time: 0 ns\n",
      "Wall time: 13 ms\n",
      "sort\n",
      "Wall time: 197 ms\n",
      "Wall time: 185 ms\n"
     ]
    }
   ],
   "source": [
    "print 'append'\n",
    "%time usual_arr.append([1])\n",
    "%time usual_arr+=[1]\n",
    "%time numpy_arr+= [1]\n",
    "print 'sort'\n",
    "%time usual_arr.sort()\n",
    "%time numpy_arr.sort()"
   ]
  },
  {
   "cell_type": "code",
   "execution_count": 17,
   "metadata": {
    "collapsed": true
   },
   "outputs": [],
   "source": [
    "#Итог: numpy.ndarray в разы быстрее проводит поэлементные операции, но list быстрее создается добавляет новые элементы"
   ]
  },
  {
   "cell_type": "markdown",
   "metadata": {},
   "source": [
    "# Matplotlib"
   ]
  },
  {
   "cell_type": "markdown",
   "metadata": {},
   "source": [
    "### 1)+2)+3) вместе"
   ]
  },
  {
   "cell_type": "code",
   "execution_count": 18,
   "metadata": {
    "collapsed": true
   },
   "outputs": [],
   "source": [
    "import matplotlib.pyplot as plt\n",
    "%matplotlib inline"
   ]
  },
  {
   "cell_type": "code",
   "execution_count": 19,
   "metadata": {
    "collapsed": false
   },
   "outputs": [],
   "source": [
    "x=np.linspace(1,100, 1000)"
   ]
  },
  {
   "cell_type": "code",
   "execution_count": 20,
   "metadata": {
    "collapsed": false
   },
   "outputs": [
    {
     "data": {
      "image/png": "[encoded data removed]",
      "text/plain": [
       "<matplotlib.figure.Figure at 0x2cea63c8>"
      ]
     },
     "metadata": {},
     "output_type": "display_data"
    }
   ],
   "source": [
    "f, (ax1, ax2) = plt.subplots(1,2)\n",
    "f.set_dpi(160)\n",
    "f.set_figwidth(12)\n",
    "f.set_figheight(6)\n",
    "\n",
    "\n",
    "ax1.plot(x, np.sin(x), label = '$y = \\sin {x}$')\n",
    "ax1.plot(x, np.sqrt(x), label = '$y = \\sqrt {x}$')\n",
    "ax1.plot(x, np.log(x), label = '$y = \\log {x}$')\n",
    "ax1.legend(loc = 'upper left')\n",
    "ax1.set_xlabel('$x$',fontsize = '20')\n",
    "ax1.set_ylabel('$y$',fontsize = '20')\n",
    "ax1.set_title('Left')\n",
    "\n",
    "\n",
    "ax2.plot(x, x, label = '$y = x$')\n",
    "ax2.plot(x, 2*x, label = '$y = {2}\\cdot{x}$')\n",
    "ax2.legend(loc = 'upper left')\n",
    "ax2.set_xlabel('$x$',fontsize = '20')\n",
    "ax2.set_ylabel('$y$',fontsize = '20')\n",
    "ax2.set_title('Righ')\n",
    "\n",
    "f.savefig('first HW MPL.png')"
   ]
  },
  {
   "cell_type": "code",
   "execution_count": 21,
   "metadata": {
    "collapsed": false
   },
   "outputs": [],
   "source": [
    "#dir(f)"
   ]
  },
  {
   "cell_type": "markdown",
   "metadata": {
    "collapsed": false
   },
   "source": [
    "# SciPy"
   ]
  },
  {
   "cell_type": "code",
   "execution_count": 22,
   "metadata": {
    "collapsed": false
   },
   "outputs": [],
   "source": [
    "import scipy\n",
    "from scipy import stats, linalg"
   ]
  },
  {
   "cell_type": "markdown",
   "metadata": {},
   "source": [
    "### 1) Генерация матрицы случайных чисел 5*5"
   ]
  },
  {
   "cell_type": "code",
   "execution_count": 23,
   "metadata": {
    "collapsed": true
   },
   "outputs": [],
   "source": [
    "#генерация стандартного нормального распределения\n",
    "normal_frozen = stats.norm"
   ]
  },
  {
   "cell_type": "code",
   "execution_count": 24,
   "metadata": {
    "collapsed": false
   },
   "outputs": [
    {
     "data": {
      "text/plain": [
       "array([[ 0.94629725, -0.74401103,  0.07428525,  1.33574473,  0.44208702],\n",
       "       [ 1.85935956,  0.44996172, -0.60166953, -0.51587056, -2.00789058],\n",
       "       [-0.63767345, -0.47092399, -2.3112651 , -1.58858197,  0.94641866],\n",
       "       [-1.11843262,  1.17193276,  0.69095107,  0.6682153 ,  0.27280072],\n",
       "       [-1.41146384,  0.74583606, -0.15636593, -1.14626913,  0.84523083]])"
      ]
     },
     "execution_count": 24,
     "metadata": {},
     "output_type": "execute_result"
    }
   ],
   "source": [
    "matr = np.array([normal_frozen.rvs() for i in range(25)])\n",
    "matr = matr.reshape(5,5)\n",
    "matr"
   ]
  },
  {
   "cell_type": "markdown",
   "metadata": {},
   "source": [
    "### 2) Находим собственные числа и собственные вектора"
   ]
  },
  {
   "cell_type": "code",
   "execution_count": 25,
   "metadata": {
    "collapsed": false
   },
   "outputs": [],
   "source": [
    "#Собственные числа и собственные вектора\n",
    "w, v = np.linalg.eig(matr)"
   ]
  },
  {
   "cell_type": "code",
   "execution_count": 26,
   "metadata": {
    "collapsed": false
   },
   "outputs": [
    {
     "name": "stdout",
     "output_type": "stream",
     "text": [
      "Собственные числа:\n",
      "[ 0.44961547+2.5388341j  0.44961547-2.5388341j -2.04662159+0.j\n",
      "  0.36121940+0.j         1.38461125+0.j       ]\n",
      "Собственные векторы:\n",
      "[[-0.18513504+0.38421076j -0.18513504-0.38421076j -0.10728130+0.j\n",
      "  -0.61234226+0.j         -0.08603164+0.j        ]\n",
      " [ 0.67427340+0.j          0.67427340-0.j         -0.09134491+0.j\n",
      "  -0.42570497+0.j         -0.69919848+0.j        ]\n",
      " [ 0.01030388-0.02554927j  0.01030388+0.02554927j -0.96079665+0.j\n",
      "  -0.13602337+0.j          0.39733048+0.j        ]\n",
      " [-0.24995669-0.36224608j -0.24995669+0.36224608j  0.23838610+0.j\n",
      "   0.23943199+0.j         -0.52649783+0.j        ]\n",
      " [-0.11019195-0.39605646j -0.11019195+0.39605646j  0.01373632+0.j\n",
      "  -0.60661537+0.j          0.26200872+0.j        ]]\n"
     ]
    }
   ],
   "source": [
    "print \"Собственные числа:\\n\", w\n",
    "print \"Собственные векторы:\\n\", v"
   ]
  },
  {
   "cell_type": "markdown",
   "metadata": {},
   "source": [
    "### 3) Проверяем, что результаты - действительно собственные числа и собственные векторы"
   ]
  },
  {
   "cell_type": "code",
   "execution_count": 27,
   "metadata": {
    "collapsed": false
   },
   "outputs": [
    {
     "name": "stdout",
     "output_type": "stream",
     "text": [
      "4.06821023699e-15\n",
      "4.06821023699e-15\n",
      "2.4244087185e-15\n",
      "1.07979534558e-15\n",
      "2.39796768847e-15\n"
     ]
    }
   ],
   "source": [
    "#Нормы разностей произведения матрицы на с.в. и произведения с.в. на с.з.\n",
    "for i in range(len(w)):\n",
    "    print np.linalg.norm(np.dot(matr,v[:,i])-w[i]*v[:,i])"
   ]
  },
  {
   "cell_type": "code",
   "execution_count": null,
   "metadata": {
    "collapsed": false
   },
   "outputs": [],
   "source": []
  },
  {
   "cell_type": "code",
   "execution_count": null,
   "metadata": {
    "collapsed": true
   },
   "outputs": [],
   "source": []
  }
 ],
 "metadata": {
  "anaconda-cloud": {},
  "kernelspec": {
   "display_name": "Python [Root]",
   "language": "python",
   "name": "Python [Root]"
  },
  "language_info": {
   "codemirror_mode": {
    "name": "ipython",
    "version": 2
   },
   "file_extension": ".py",
   "mimetype": "text/x-python",
   "name": "python",
   "nbconvert_exporter": "python",
   "pygments_lexer": "ipython2",
   "version": "2.7.12"
  }
 },
 "nbformat": 4,
 "nbformat_minor": 0
}
